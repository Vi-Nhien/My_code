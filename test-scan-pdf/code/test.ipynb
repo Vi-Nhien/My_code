{
 "cells": [
  {
   "cell_type": "code",
   "execution_count": 25,
   "metadata": {},
   "outputs": [
    {
     "name": "stdout",
     "output_type": "stream",
     "text": [
      "20220319\n"
     ]
    }
   ],
   "source": [
    "# pip install pdfminer.six\n",
    "import pdfminer\n",
    "print(pdfminer.__version__)"
   ]
  },
  {
   "cell_type": "code",
   "execution_count": null,
   "metadata": {},
   "outputs": [],
   "source": [
    "from pdfminer.high_level import extract_pages\n",
    "from pdfminer.layout import LTTextContainer\n",
    "# for page_layout in extract_pages(\"de_mau\\Đề kiểm tra Toán 8 TN + TL.pdf\"):\n",
    "for page_layout in extract_pages(\"de_mau\\Đề mẫu Tiếng Anh THPT Quốc Gia.pdf\"):\n",
    "    for element in page_layout:\n",
    "        if isinstance(element, LTTextContainer):\n",
    "            print(element.get_text())"
   ]
  },
  {
   "cell_type": "code",
   "execution_count": 8,
   "metadata": {},
   "outputs": [
    {
     "name": "stdout",
     "output_type": "stream",
     "text": [
      "SỞ GD & ĐT BẮC NINH \n",
      "TRƯỜNG THPT LÝ THÁI TỔ \n",
      "------------------ \n",
      "KỲ THI THỬ TỐT NGHIỆP THPT KHỐI 12 \n",
      "NĂM HỌC 2020 – 2021 \n",
      "MÔN TIẾNG ANH \n",
      "Thời gian làm bài: 60 phút không kể thời gian phát đề \n",
      "Mark the letter A, B, C, or D on your answer sheet to indicate the sentence that is closest in meaning to each \n",
      "of the following questions from 1 to 3  \n",
      "Question 1: They believe that burning fossil fuels is the main cause of air pollution.  \n",
      "  A. Burning fossil fuels is believed to have caused high levels of air pollution.  \n",
      "  B. It is believed that air pollution is mainly to blame for burning fossil fuels.  \n",
      "  C. Burning fossil fuels is believed to result from air pollution.  \n",
      "  D. It is believed that burning fossil fuels is held responsible for air pollution.  \n",
      "Question 2: \"I haven't been very open-minded,\" said the manager.  \n",
      "  A. The manager denied having been very open-minded.  \n",
      "  B. The manager refused to have been very open-minded.  \n",
      "  C. The manager admitted not having been very open-minded.  \n",
      "  D. The manager promised to be very open-minded.  \n",
      "Question 3: Peter used to work as a journalist for a local newspaper.  \n",
      "  A. Peter has stopped working as a journalist for a local newspaper.  \n",
      "  B. Peter no longer likes the job as a journalist for a local newspaper.  \n",
      "  C. Peter enjoyed working as a journalist for a local newspaper.  \n",
      "  D. Peter refused to work as a journalist for a local newspaper.  \n",
      "Mark  the  letter  A,  B,  C,  or  D  to  indicate  the  word  whose  underlined  part  differs  from  the  other  three  in \n",
      "pronunciation in each of the following questions from 4 to 5  \n",
      "Question 4: A. liberty  \n",
      "Question 5: A. raised  \n",
      "D. final  \n",
      "D. introduced  \n",
      "C. revival  \n",
      "C. influenced  \n",
      "B. reliable  \n",
      "B. developed  \n",
      "Mark the letter A, B, C, or D on your answer sheet to indicate the most suitable response to complete each of \n",
      "the following exchanges from 6 to 7  \n",
      "Question 6: John: \" You're already leaving? The ball is only starting.\"  \n",
      "- Peter: \" But it's very late, so __________.\"  \n",
      "  A. It's great fun, thanks  \n",
      "  C. Goodbye for now  \n",
      "Question 7: John: \"Why don't we go to a baseball game?\".  \n",
      "- Jimmy: \"_____________”.  \n",
      "  A. No, thanks. I'd like to sit here  \n",
      "  C. It's good to play baseball  \n",
      "B. I'd rather go to the art gallery  \n",
      "D. No, I don't.  \n",
      "B. Take care  \n",
      "D. Have a good day  \n",
      "Mark  the  letter  A,  B,  C,  or  D  on  your  answer  sheet  to  indicate  the  sentence  that  best combines  each  pair \n",
      "sentences in the following questions from 8 to 9  \n",
      "Question 8: Beef contains vitamins. Generally, fish contains almost the same vitamins as beef.  \n",
      "  A. Generally, beef and fish may be considered to be a combination of vitamin content.  \n",
      "1 \n",
      "\n"
     ]
    }
   ],
   "source": [
    "from pdfminer.converter import PDFPageAggregator\n",
    "from pdfminer.layout import LAParams, LTFigure, LTTextBox\n",
    "from pdfminer.pdfdocument import PDFDocument\n",
    "from pdfminer.pdfinterp import PDFPageInterpreter, PDFResourceManager\n",
    "from pdfminer.pdfpage import PDFPage, PDFTextExtractionNotAllowed\n",
    "from pdfminer.pdfparser import PDFParser\n",
    "\n",
    "text = \"\"\n",
    "\n",
    "with open('de_mau\\Đề mẫu Tiếng Anh THPT Quốc Gia.pdf', 'rb') as f:\n",
    "    parser = PDFParser(f)\n",
    "    doc = PDFDocument(parser)\n",
    "    page = list(PDFPage.create_pages(doc))[0]\n",
    "    rsrcmgr = PDFResourceManager()\n",
    "    device = PDFPageAggregator(rsrcmgr, laparams=LAParams())\n",
    "    interpreter = PDFPageInterpreter(rsrcmgr, device)\n",
    "    interpreter.process_page(page)\n",
    "    layout = device.get_result()\n",
    "    \n",
    "    for obj in layout:\n",
    "        if isinstance(obj, LTTextBox):\n",
    "            text += obj.get_text()\n",
    "            \n",
    "        elif isinstance(obj, LTFigure):\n",
    "            stack += list(obj)\n",
    "\n",
    "print(text)"
   ]
  },
  {
   "cell_type": "code",
   "execution_count": null,
   "metadata": {},
   "outputs": [],
   "source": []
  }
 ],
 "metadata": {
  "interpreter": {
   "hash": "b38c60718e4bd0fb9842d4f5f7de39b10dd78e0ba25a836d7251f06bc9da6eb3"
  },
  "kernelspec": {
   "display_name": "Python 3.10.4 64-bit",
   "language": "python",
   "name": "python3"
  },
  "language_info": {
   "codemirror_mode": {
    "name": "ipython",
    "version": 3
   },
   "file_extension": ".py",
   "mimetype": "text/x-python",
   "name": "python",
   "nbconvert_exporter": "python",
   "pygments_lexer": "ipython3",
   "version": "3.10.4"
  },
  "orig_nbformat": 4
 },
 "nbformat": 4,
 "nbformat_minor": 2
}
